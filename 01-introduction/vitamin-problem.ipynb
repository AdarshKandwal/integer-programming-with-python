{
 "cells": [
  {
   "cell_type": "code",
   "execution_count": 1,
   "metadata": {
    "collapsed": true
   },
   "outputs": [],
   "source": [
    "from pulp import *\n",
    "import numpy as np\n",
    "import pandas as pd\n",
    "import matplotlib.pyplot as plt\n",
    "import seaborn as sns\n",
    "from IPython.display import HTML\n",
    "\n",
    "%matplotlib inline"
   ]
  },
  {
   "cell_type": "code",
   "execution_count": 2,
   "metadata": {
    "collapsed": true
   },
   "outputs": [],
   "source": [
    "#TODO hard code the vitamin list for easier reproduction\n",
    "import re\n",
    "\n",
    "with open('vitamins.txt','r') as f:\n",
    "    data = f.read()\n",
    "    \n",
    "matcher = re.compile(r'(.+)\\s[0-9\\.]+\\s(mg|mcg|IU)')\n",
    "ingredients = [ m[0] for m in matcher.findall(data)]\n",
    "\n",
    "np.random.seed(42)\n",
    "df = pd.DataFrame( list(zip(ingredients,np.random.rand(len(ingredients)))), columns = ['vitamin','cost'])\n",
    "df.cost = df.cost.round(2)\n",
    "\n",
    "df.to_csv('vitamin_costs.csv', index=False)"
   ]
  },
  {
   "cell_type": "markdown",
   "metadata": {
    "variables": {
     "HTML(df.to_html(index=False)) ": "<table border=\"1\" class=\"dataframe\">\n  <thead>\n    <tr style=\"text-align: right;\">\n      <th>vitamin</th>\n      <th>cost</th>\n    </tr>\n  </thead>\n  <tbody>\n    <tr>\n      <td>Vitamin A</td>\n      <td>0.37</td>\n    </tr>\n    <tr>\n      <td>Vitamin C</td>\n      <td>0.95</td>\n    </tr>\n    <tr>\n      <td>Vitamin D</td>\n      <td>0.73</td>\n    </tr>\n    <tr>\n      <td>Vitamin E</td>\n      <td>0.60</td>\n    </tr>\n    <tr>\n      <td>Vitamin K</td>\n      <td>0.16</td>\n    </tr>\n    <tr>\n      <td>Thiamin (B1)</td>\n      <td>0.16</td>\n    </tr>\n    <tr>\n      <td>Riboflavin (B2)</td>\n      <td>0.06</td>\n    </tr>\n    <tr>\n      <td>Niacin</td>\n      <td>0.87</td>\n    </tr>\n    <tr>\n      <td>Vitamin B6</td>\n      <td>0.60</td>\n    </tr>\n    <tr>\n      <td>Folic Acid</td>\n      <td>0.71</td>\n    </tr>\n    <tr>\n      <td>Vitamin B12</td>\n      <td>0.02</td>\n    </tr>\n    <tr>\n      <td>Biotin</td>\n      <td>0.97</td>\n    </tr>\n    <tr>\n      <td>Pantothenic Acid</td>\n      <td>0.83</td>\n    </tr>\n    <tr>\n      <td>Calcium</td>\n      <td>0.21</td>\n    </tr>\n    <tr>\n      <td>Iron</td>\n      <td>0.18</td>\n    </tr>\n    <tr>\n      <td>Magnesium</td>\n      <td>0.18</td>\n    </tr>\n    <tr>\n      <td>Zinc</td>\n      <td>0.30</td>\n    </tr>\n    <tr>\n      <td>Selenium</td>\n      <td>0.52</td>\n    </tr>\n    <tr>\n      <td>Copper</td>\n      <td>0.43</td>\n    </tr>\n    <tr>\n      <td>Magnesium</td>\n      <td>0.29</td>\n    </tr>\n    <tr>\n      <td>Chromium</td>\n      <td>0.61</td>\n    </tr>\n    <tr>\n      <td>Lycopene</td>\n      <td>0.14</td>\n    </tr>\n  </tbody>\n</table>"
    }
   },
   "source": [
    "# A new high performance and optimally cheap multivitamin. Saving the world one mixed integer program at a time\n",
    "\n",
    "You have been tasked with developing a new superior multivitamin. You have been given free reign to select the ingredients and their relative amounts in the vitamin but you have been asked to keep the cost of the raw materials as low as possible.\n",
    "\n",
    "Further complicating things, you must abide by some restrictions in the formula.\n",
    "\n",
    "1. The formula should not have more than 20% of any one vitamin\n",
    "2. The formula must have at least 10% Iron, Zinc, or Magnesium\n",
    "3. The formula must have at least 20% Vitamin A, Vitamin C, or Vitamin D\n",
    "4. Each vitamin that is used must account for at least 5% of the total\n",
    "5. The formula may contain as few as 5 vitamins but no more than 10 vitamins\n",
    "6. If the formula contains Magnesium it must also contain Calcium and Zinc\n",
    "7. The formula must have one of the B vitamins either B6 or B12 but not both\n",
    "\n",
    "#### The possible Ingredients and their per mg cost\n",
    "\n",
    "{{HTML(df.to_html(index=False)) }}\n",
    "\n",
    "You might see a simple greedy strategy to solve this, but the vitamin B constrains and the Magnesium/Zinc/Calcium constraints make things a bit more complicated. Instead of trial and error we can try and create this vitamin by writing a fairly simple mixed integer linear program. First we need to come up with an expression that captures our ultimate goal, in this case, to minimize the cost of raw materials.\n",
    "\n",
    "We can calculate the total cost of the formula by adding up the individual cost of each vitamin in it.\n",
    "\n",
    "$$\\text{Total Cost} = \\text{ sum over all the vitamins (cost of vitamin) * (percent of vitamin) } $$"
   ]
  },
  {
   "cell_type": "markdown",
   "metadata": {},
   "source": [
    "First lets load the data we have and organize it so we can easily grab the cost of particular vitamin"
   ]
  },
  {
   "cell_type": "code",
   "execution_count": 3,
   "metadata": {},
   "outputs": [
    {
     "data": {
      "text/html": [
       "<div>\n",
       "<style>\n",
       "    .dataframe thead tr:only-child th {\n",
       "        text-align: right;\n",
       "    }\n",
       "\n",
       "    .dataframe thead th {\n",
       "        text-align: left;\n",
       "    }\n",
       "\n",
       "    .dataframe tbody tr th {\n",
       "        vertical-align: top;\n",
       "    }\n",
       "</style>\n",
       "<table border=\"1\" class=\"dataframe\">\n",
       "  <thead>\n",
       "    <tr style=\"text-align: right;\">\n",
       "      <th></th>\n",
       "      <th>vitamin</th>\n",
       "      <th>cost</th>\n",
       "    </tr>\n",
       "  </thead>\n",
       "  <tbody>\n",
       "    <tr>\n",
       "      <th>0</th>\n",
       "      <td>Vitamin A</td>\n",
       "      <td>0.37</td>\n",
       "    </tr>\n",
       "    <tr>\n",
       "      <th>1</th>\n",
       "      <td>Vitamin C</td>\n",
       "      <td>0.95</td>\n",
       "    </tr>\n",
       "    <tr>\n",
       "      <th>2</th>\n",
       "      <td>Vitamin D</td>\n",
       "      <td>0.73</td>\n",
       "    </tr>\n",
       "    <tr>\n",
       "      <th>3</th>\n",
       "      <td>Vitamin E</td>\n",
       "      <td>0.60</td>\n",
       "    </tr>\n",
       "    <tr>\n",
       "      <th>4</th>\n",
       "      <td>Vitamin K</td>\n",
       "      <td>0.16</td>\n",
       "    </tr>\n",
       "  </tbody>\n",
       "</table>\n",
       "</div>"
      ],
      "text/plain": [
       "     vitamin  cost\n",
       "0  Vitamin A  0.37\n",
       "1  Vitamin C  0.95\n",
       "2  Vitamin D  0.73\n",
       "3  Vitamin E  0.60\n",
       "4  Vitamin K  0.16"
      ]
     },
     "execution_count": 3,
     "metadata": {},
     "output_type": "execute_result"
    }
   ],
   "source": [
    "df = pd.read_csv('vitamin_costs.csv')\n",
    "vitamins = df.vitamin.values\n",
    "vitamin_cost = df.set_index('vitamin').to_dict()['cost']\n",
    "df.head()"
   ]
  },
  {
   "cell_type": "markdown",
   "metadata": {},
   "source": [
    "Lets model the percent each vitamin is included as by a variable u. so if Vitamin C is included at 15% then u[Vitamin C] = .15. We can use pulp.LpVariable.dicts to return a dictionary of variables that are indexed by the vitamin names. This will make referring to variables later on very easy. "
   ]
  },
  {
   "cell_type": "code",
   "execution_count": 4,
   "metadata": {
    "collapsed": true
   },
   "outputs": [],
   "source": [
    "u = LpVariable.dicts('percent', vitamins, 0, 1, LpContinuous)"
   ]
  },
  {
   "cell_type": "markdown",
   "metadata": {},
   "source": [
    "The next thing we need to do is create an instance of the ```pulp.LpProblem``` class. This creates a problem variable that will hold the cost and constraints and tells PuLP that we want to minimize our cost. We pass in a name and either ```LpMinimize``` or ```LpMaximize``` for either minimizing our cost or maximizing it."
   ]
  },
  {
   "cell_type": "code",
   "execution_count": 5,
   "metadata": {
    "collapsed": true
   },
   "outputs": [],
   "source": [
    "prob = LpProblem('super-awesome-vitamin', LpMinimize)"
   ]
  },
  {
   "cell_type": "markdown",
   "metadata": {},
   "source": [
    "Now we can define our cost. We will use ```pulp.lpSum``` instead of the regular python sum function for efficiency. In this problem it won't make a difference so feel free to experiment. This returns a ```pulp.LpAffineExpression``` which we will discuss in detail later on. To add our cost expression to the problem we literally just add it to the problem."
   ]
  },
  {
   "cell_type": "code",
   "execution_count": 6,
   "metadata": {
    "collapsed": true
   },
   "outputs": [],
   "source": [
    "cost = lpSum([ u[v]*vitamin_cost[v] for v in vitamins])\n",
    "prob += cost"
   ]
  },
  {
   "cell_type": "markdown",
   "metadata": {},
   "source": [
    "We can now start adding our constraints. The first few are very straightforward. Like with the cost, each constraint just gets added to the problem variable. The key difference is that the constraint will be an inequality."
   ]
  },
  {
   "cell_type": "markdown",
   "metadata": {},
   "source": [
    "1: The formula should not have more than 20% of any one vitamin"
   ]
  },
  {
   "cell_type": "code",
   "execution_count": 7,
   "metadata": {
    "collapsed": true
   },
   "outputs": [],
   "source": [
    "#no more than 20% of any one vitamin\n",
    "for v in vitamins:\n",
    "    prob += u[v] <= .2"
   ]
  },
  {
   "cell_type": "markdown",
   "metadata": {},
   "source": [
    "2: The formula must have at least 10% Iron, Zinc, or Magnesium"
   ]
  },
  {
   "cell_type": "code",
   "execution_count": 8,
   "metadata": {
    "collapsed": true
   },
   "outputs": [],
   "source": [
    "#The formula must have at least 10% Iron, Zinc, or Magnesium\n",
    "prob += u['Iron'] + u['Zinc'] + u['Magnesium'] >= .1"
   ]
  },
  {
   "cell_type": "markdown",
   "metadata": {},
   "source": [
    "3: The formula must have at least 20% Vitamin A, Vitamin C, or Vitamin D"
   ]
  },
  {
   "cell_type": "code",
   "execution_count": 9,
   "metadata": {
    "collapsed": true
   },
   "outputs": [],
   "source": [
    "#The formula must have at least 20% Vitamin A, Vitamin C, or Vitamin D\n",
    "prob += u['Vitamin A'] + u['Vitamin C'] + u['Vitamin D'] >= .2"
   ]
  },
  {
   "cell_type": "markdown",
   "metadata": {},
   "source": [
    "These were fairly straightforward, the code for the constraints and the description of the constraint are almost identical. However the next constraint is a bit stranger.\n",
    "\n",
    "\"4. Each vitamin that is used must account for at least 5% of the total\"\n",
    "\n",
    "We basically need the u variables to be at least 5% or 0%. To model this we need to introduce some new variables that will track in simple yes/no manner if the vitamin is included in the final formula. Once we have these variables we will link them with the u variables somehow and satisfy the rest of the constraints. For now lets just look at the code."
   ]
  },
  {
   "cell_type": "code",
   "execution_count": 10,
   "metadata": {
    "collapsed": true
   },
   "outputs": [],
   "source": [
    "#binary variable that captures if this vitamin will be used in the formula\n",
    "b = LpVariable.dicts('use',vitamins,0,1, LpBinary)"
   ]
  },
  {
   "cell_type": "markdown",
   "metadata": {},
   "source": [
    "4: Each vitamin that is used must account for at least 5% of the total"
   ]
  },
  {
   "cell_type": "code",
   "execution_count": 11,
   "metadata": {
    "collapsed": true
   },
   "outputs": [],
   "source": [
    "#Each vitamin that is used must account for at least 5% of the total\n",
    "for v in vitamins:\n",
    "    #if we don't use this vitamin then the percent must be zero\n",
    "    prob += u[v] <= b[v] \n",
    "    #likewise if we do use this vitamin, then the percent must not be zero\n",
    "    prob += u[v] >= .05 -100*(1-b[v]) # > .05 or > .05 -100"
   ]
  },
  {
   "cell_type": "markdown",
   "metadata": {},
   "source": [
    "That looks a bit confusing but its actually a very common modeling technique we will explore in detail later on. These new b variables make the rest of the constraints really easy to model.\n",
    "\n",
    "5: The formula may contain as few as 5 vitamins but no more than 10 vitamins"
   ]
  },
  {
   "cell_type": "code",
   "execution_count": 12,
   "metadata": {
    "collapsed": true
   },
   "outputs": [],
   "source": [
    "#The formula may contain as few as 5 vitamins but no more than 10 vitamins\n",
    "prob += lpSum([ b[v] for v in vitamins]) >= 5\n",
    "prob += lpSum([ b[v] for v in vitamins]) <= 10"
   ]
  },
  {
   "cell_type": "markdown",
   "metadata": {},
   "source": [
    "6: If the formula contains Magnesium it must also contain Calcium and Zinc"
   ]
  },
  {
   "cell_type": "code",
   "execution_count": 13,
   "metadata": {
    "collapsed": true
   },
   "outputs": [],
   "source": [
    "#If the formula contains Magnesium it must also contain Calcium and Zinc\n",
    "prob += 2*b['Magnesium'] <= b['Calcium'] + b['Zinc'] "
   ]
  },
  {
   "cell_type": "markdown",
   "metadata": {
    "collapsed": true
   },
   "source": [
    "7: The formula must have one of the B vitamins either B6 or B12 but not both"
   ]
  },
  {
   "cell_type": "code",
   "execution_count": 14,
   "metadata": {
    "collapsed": true
   },
   "outputs": [],
   "source": [
    "#The formula must have one of the B vitamins either B6 or B12 but not both\n",
    "prob += b['Vitamin B12'] + b['Vitamin B6'] == 1"
   ]
  },
  {
   "cell_type": "markdown",
   "metadata": {},
   "source": [
    "Finally, while it wasn't stated as a constraint, our u variables are supposed to be percents, so they must add up to 100%"
   ]
  },
  {
   "cell_type": "code",
   "execution_count": 15,
   "metadata": {
    "collapsed": true
   },
   "outputs": [],
   "source": [
    "#the percentages must add up to 100\n",
    "prob += lpSum([ u[v] for v in vitamins]) == 1.0"
   ]
  },
  {
   "cell_type": "markdown",
   "metadata": {},
   "source": [
    "We can now solve the problem and relax knowing we have made the best possible multivitamin (with our highly customized and formalized definition of \"best\")"
   ]
  },
  {
   "cell_type": "code",
   "execution_count": 16,
   "metadata": {},
   "outputs": [
    {
     "data": {
      "text/plain": [
       "'Optimal'"
      ]
     },
     "execution_count": 16,
     "metadata": {},
     "output_type": "execute_result"
    }
   ],
   "source": [
    "LpStatus[prob.solve()]"
   ]
  },
  {
   "cell_type": "code",
   "execution_count": 17,
   "metadata": {},
   "outputs": [
    {
     "name": "stdout",
     "output_type": "stream",
     "text": [
      "total cost: $0.15\n"
     ]
    }
   ],
   "source": [
    "print('total cost: $%.2f'%prob.objective.value())"
   ]
  },
  {
   "cell_type": "code",
   "execution_count": 18,
   "metadata": {},
   "outputs": [
    {
     "name": "stdout",
     "output_type": "stream",
     "text": [
      "Vitamin A 20% at unit cost of: $0.37\n",
      "Thiamin (B1) 10% at unit cost of: $0.16\n",
      "Riboflavin (B2) 20% at unit cost of: $0.06\n",
      "Vitamin B12 20% at unit cost of: $0.02\n",
      "Iron 10% at unit cost of: $0.18\n",
      "Lycopene 20% at unit cost of: $0.14\n"
     ]
    }
   ],
   "source": [
    "for v in vitamins:\n",
    "    if value(u[v]) >0:\n",
    "        print( '%s %.0f%% at unit cost of: $%.2f' %(v, 100*value(u[v]), vitamin_cost[v]))"
   ]
  }
 ],
 "metadata": {
  "kernelspec": {
   "display_name": "Python 3",
   "language": "python",
   "name": "python3"
  },
  "language_info": {
   "codemirror_mode": {
    "name": "ipython",
    "version": 3
   },
   "file_extension": ".py",
   "mimetype": "text/x-python",
   "name": "python",
   "nbconvert_exporter": "python",
   "pygments_lexer": "ipython3",
   "version": "3.6.3"
  }
 },
 "nbformat": 4,
 "nbformat_minor": 2
}
