{
 "cells": [
  {
   "cell_type": "markdown",
   "metadata": {},
   "source": [
    "# What this book is and isn't\n"
   ]
  },
  {
   "cell_type": "markdown",
   "metadata": {},
   "source": [
    "The fields of mathematical optimization and operations research are very mature fields and there is a wealth of very detailed information out there already. This book aims to present the topics in a manner that can be understood without working through the detailed mathematical proofs, the guarantees of convergence, optimality, and all the various proofs of computational complexity. At the same time, these issues should not be ignored. It is my belief that a solid understanding of the fundamentals is often very beneficial when trying to apply complex ideas to new fields and use cases that don't exactly mimic previously solved and studied problems. All that being said, my hope is to excite. These are powerful methods that only require a few lines of python to use, so my hope is that this book will help the reader solve problems right away and over time come to understand and appreciate the beautiful theory that underpins the magic. This is not a math book. Several results will be presented and discussed but proofs and details will often be swept under the rug.\n",
    "\n",
    "Readers should have at least a high school understanding of mathematics. This is less about mathematics and being able to manipulate expressions and more about mathematics as a means of communication. A key skill in this and many fields, I would argue, is that of translation: distilling complex problems expressed in natural language to mathematical expressions and clear objectives. This requires a specific degree of comfort in reading and writing mathematical expressions. Specific to integer programming there are many commonly exploited techniques that readers will come to learn by implementing them despite on the surface appearing rather cryptic and complex. This book contains a short section on required notation that might serve to meet these requirements. "
   ]
  },
  {
   "cell_type": "markdown",
   "metadata": {},
   "source": [
    "### Python 2 or 3?\n",
    "\n",
    "This questions has for years divided the Python community, but this book won't be contributing. While all the examples and this book itself are written in python 3.6, the core library used works in python 2.7 and python 3. Where possible python version agnostic functions have been used, i.e.\n",
    "```python\n",
    "from __future__ import print_function\n",
    "```\n",
    "\n",
    "Other small issues may arise such as handling lists vs iterators in map etc. These are easily solved, but otherwise python 3 is preferred to 2.7."
   ]
  },
  {
   "cell_type": "markdown",
   "metadata": {},
   "source": [
    "### Rough outline\n",
    "\n",
    "The book will be organized into various case studies that each aim to teach a specific modeling or transformation technique. There will be a math primer section and the case studies will be interspersed with sections that teach the theory behind the algorithms. \n",
    "\n",
    "Contents\n",
    "\n",
    "* Introduction\n",
    "    * History\n",
    "    * Getting started\n",
    "        * Installing and environment\n",
    "    * Math Primer\n",
    "        * Domains\n",
    "        * Notation\n",
    "* [section 1] \n",
    "    * main ideas:\n",
    "        * Solving a system of linear linear equations, objective/cost functions etc\n",
    "        * introduction to pulp, basic usage and syntax\n",
    "    * case study:\n",
    "        * solving a simple system with pulp\n",
    "* [section 2]\n",
    "    * main ideas:\n",
    "        * Simplex algorithm and optimal flow problems\n",
    "    * case study:\n",
    "        * Network flows: factory routing problem\n",
    "* [section 3]\n",
    "    * main ideas:\n",
    "        * Integer domains\n",
    "        * More history\n",
    "        * Basic Combinatorics\n",
    "        * Computation Complexity\n",
    "    * Case studies\n",
    "        * Knapsack problem\n",
    "        * Bin packing problem\n",
    "* [section 4]\n",
    "    * main idea\n",
    "        * modeling techniques for routing problems\n",
    "        * history and more about complexity\n",
    "    * case study\n",
    "        * traveling salesman problem 1 [subtour elimination]\n",
    "        * traveling salesman problem 2 [without iterative subtour elimination]\n",
    "        * Vehicle routing problem (multiple traveling salesman)\n",
    "* [section 5]\n",
    "    * main idea\n",
    "        * binary variables for advanced modeling techniques\n",
    "        * Big M, if/then, and/or\n",
    "    * case study:\n",
    "        * some kind of complex industrial manufacturing problem\n",
    "* [section 6]\n",
    "    * main idea\n",
    "        * more advanced modeling techniques\n",
    "        * thinking in graphs, why using networkx can make the code way simpler\n",
    "        * dealing with non linear functions (approximations)\n",
    "    * some kind of receding horizon control problem (time based graph) with break points for the cost function\n",
    "* [section 7]\n",
    "    * main idea:\n",
    "        * Theory, branch and bound algorithm\n",
    "    * case study:\n",
    "        * manually implement branch and bound\n",
    "* [section 8]\n",
    "    * main idea:\n",
    "        * performance tunning (cuts)\n",
    "        * simplifications\n",
    "        * parallelization, commercial solvers, general good tips etc. how to debug pulp traces"
   ]
  },
  {
   "cell_type": "code",
   "execution_count": null,
   "metadata": {
    "collapsed": true
   },
   "outputs": [],
   "source": []
  }
 ],
 "metadata": {
  "kernelspec": {
   "display_name": "Python 3",
   "language": "python",
   "name": "python3"
  },
  "language_info": {
   "codemirror_mode": {
    "name": "ipython",
    "version": 3
   },
   "file_extension": ".py",
   "mimetype": "text/x-python",
   "name": "python",
   "nbconvert_exporter": "python",
   "pygments_lexer": "ipython3",
   "version": "3.6.3"
  }
 },
 "nbformat": 4,
 "nbformat_minor": 2
}
