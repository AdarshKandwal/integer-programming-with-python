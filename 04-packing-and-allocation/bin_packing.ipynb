{
 "cells": [
  {
   "cell_type": "markdown",
   "metadata": {},
   "source": [
    "## Bin Packing\n",
    "\n",
    "We have a bunch of items of different sizes and we want to put them in bins. How should we pack them to Minimize the number of bins needed?"
   ]
  },
  {
   "cell_type": "code",
   "execution_count": 1,
   "metadata": {
    "collapsed": false
   },
   "outputs": [],
   "source": [
    "from pulp import *\n",
    "import numpy as np"
   ]
  },
  {
   "cell_type": "markdown",
   "metadata": {},
   "source": [
    "### 1. First lets make some fake data"
   ]
  },
  {
   "cell_type": "code",
   "execution_count": 2,
   "metadata": {
    "collapsed": true
   },
   "outputs": [],
   "source": [
    "items=['item_%d'%i for i in range(50)]"
   ]
  },
  {
   "cell_type": "code",
   "execution_count": 3,
   "metadata": {
    "collapsed": false
   },
   "outputs": [],
   "source": [
    "item_sizes = dict( (i,np.random.randint(1,20)) for i in items)"
   ]
  },
  {
   "cell_type": "markdown",
   "metadata": {},
   "source": [
    "### The Model\n",
    "\n",
    "Lets model the each possible bins as having at most N spots to be filled by item 0,...,N.\n",
    "\n",
    "$$x_{i,b} = \\begin{cases}\n",
    "    1, & \\text{if item i is in bin b } \\\\\n",
    "    0, & \\text{otherwise}\n",
    "\\end{cases}\n",
    "$$\n",
    "\n",
    "We need to make sure each item is placed in exactly one bin. Ie for any given item, summing $x_{i,b}$ along the bins should equal 1.\n",
    "\n",
    "$$\\sum_{b} x_{i,b} = 1 \\ \\forall i$$\n",
    "\n",
    "We also need to make sure that if a bin is used, it is not used beyond its capacity. \n",
    "\n",
    "$$\\sum_{i} x_{i,b} \\leq \\text{bin_capacity}*y_{b} \\ \\forall b$$\n",
    "\n",
    "Finally, we are trying to minimize the number of needed bins, so our objective is:\n",
    "\n",
    "$$\\text{Minimize} \\ \\sum_{b} y_{b}$$"
   ]
  },
  {
   "cell_type": "code",
   "execution_count": 4,
   "metadata": {
    "collapsed": true
   },
   "outputs": [],
   "source": [
    "bin_size = 40"
   ]
  },
  {
   "cell_type": "code",
   "execution_count": 5,
   "metadata": {
    "collapsed": false
   },
   "outputs": [],
   "source": [
    "bins = ['bin_%d'%i for i in range(len(items))]"
   ]
  },
  {
   "cell_type": "code",
   "execution_count": 6,
   "metadata": {
    "collapsed": false
   },
   "outputs": [],
   "source": [
    "x = LpVariable.dicts('x',[(i,b) for i in items for b in bins],0,1,LpBinary)"
   ]
  },
  {
   "cell_type": "code",
   "execution_count": 7,
   "metadata": {
    "collapsed": false
   },
   "outputs": [],
   "source": [
    "y = LpVariable.dicts('bin',bins,0,10, LpBinary)"
   ]
  },
  {
   "cell_type": "code",
   "execution_count": 8,
   "metadata": {
    "collapsed": false
   },
   "outputs": [],
   "source": [
    "#create the problme\n",
    "prob=LpProblem(\"bin_packing\",LpMinimize)"
   ]
  },
  {
   "cell_type": "code",
   "execution_count": 9,
   "metadata": {
    "collapsed": false
   },
   "outputs": [],
   "source": [
    "#the objective\n",
    "cost = lpSum([ y[b] for b in bins])\n",
    "prob+=cost"
   ]
  },
  {
   "cell_type": "code",
   "execution_count": 10,
   "metadata": {
    "collapsed": false
   },
   "outputs": [],
   "source": [
    "#every item is placed in exactly one bin\n",
    "for i in items:\n",
    "    prob+= lpSum([x[i,b] for b in bins]) == 1"
   ]
  },
  {
   "cell_type": "code",
   "execution_count": 11,
   "metadata": {
    "collapsed": true
   },
   "outputs": [],
   "source": [
    "#if a bin is used, it has a capacity constraint\n",
    "for b in bins:\n",
    "    prob+=lpSum([ item_sizes[i]*x[i,b] for i in items]) <= bin_size*y[b]"
   ]
  },
  {
   "cell_type": "markdown",
   "metadata": {},
   "source": [
    "### Solve it!"
   ]
  },
  {
   "cell_type": "code",
   "execution_count": 12,
   "metadata": {
    "collapsed": false
   },
   "outputs": [
    {
     "name": "stdout",
     "output_type": "stream",
     "text": [
      "CPU times: user 65.5 ms, sys: 7.36 ms, total: 72.9 ms\n",
      "Wall time: 1.18 s\n",
      "Optimal\n"
     ]
    }
   ],
   "source": [
    "%time prob.solve()\n",
    "print(LpStatus[prob.status])"
   ]
  },
  {
   "cell_type": "markdown",
   "metadata": {},
   "source": [
    "And the result:"
   ]
  },
  {
   "cell_type": "code",
   "execution_count": 13,
   "metadata": {
    "collapsed": false
   },
   "outputs": [
    {
     "name": "stdout",
     "output_type": "stream",
     "text": [
      "14.0\n"
     ]
    }
   ],
   "source": [
    "print(value(prob.objective))"
   ]
  },
  {
   "cell_type": "code",
   "execution_count": 14,
   "metadata": {
    "collapsed": false
   },
   "outputs": [
    {
     "name": "stdout",
     "output_type": "stream",
     "text": [
      "bin_0 : item_3, item_4, item_5, item_19\n",
      "bin_1 : item_6, item_40, item_42, item_48\n",
      "bin_7 : item_31, item_44\n",
      "bin_10 : item_8, item_13, item_28, item_30\n",
      "bin_11 : item_23, item_27, item_32\n",
      "bin_12 : item_35, item_37, item_45\n",
      "bin_13 : item_2, item_16, item_17, item_18, item_25\n",
      "bin_14 : item_21, item_41, item_43\n",
      "bin_15 : item_9, item_22, item_24\n",
      "bin_16 : item_10, item_11, item_12\n",
      "bin_17 : item_1, item_14, item_33, item_38, item_46\n",
      "bin_18 : item_0, item_20, item_29\n",
      "bin_19 : item_15, item_26, item_47, item_49\n",
      "bin_23 : item_7, item_34, item_36, item_39\n"
     ]
    }
   ],
   "source": [
    "for b in bins:\n",
    "    if value(y[b]) !=0:\n",
    "        print(b,':',', '.join([ i for i in items if value(x[i,b]) !=0 ]))"
   ]
  },
  {
   "cell_type": "code",
   "execution_count": 15,
   "metadata": {
    "collapsed": false
   },
   "outputs": [
    {
     "name": "stdout",
     "output_type": "stream",
     "text": [
      "14.0\n"
     ]
    }
   ],
   "source": [
    "print(value(prob.objective))"
   ]
  }
 ],
 "metadata": {
  "anaconda-cloud": {},
  "kernelspec": {
   "display_name": "Python [conda env:py3]",
   "language": "python",
   "name": "conda-env-py3-py"
  },
  "language_info": {
   "codemirror_mode": {
    "name": "ipython",
    "version": 3
   },
   "file_extension": ".py",
   "mimetype": "text/x-python",
   "name": "python",
   "nbconvert_exporter": "python",
   "pygments_lexer": "ipython3",
   "version": "3.5.2"
  }
 },
 "nbformat": 4,
 "nbformat_minor": 1
}
