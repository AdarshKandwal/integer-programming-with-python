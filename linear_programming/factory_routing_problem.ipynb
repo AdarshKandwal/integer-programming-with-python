{
 "cells": [
  {
   "cell_type": "code",
   "execution_count": 1,
   "metadata": {
    "collapsed": true
   },
   "outputs": [],
   "source": [
    "from pulp import *\n",
    "import networkx as nx\n",
    "import pandas as pd\n",
    "import numpy as np\n",
    "import os"
   ]
  },
  {
   "cell_type": "code",
   "execution_count": 2,
   "metadata": {
    "collapsed": false
   },
   "outputs": [
    {
     "name": "stdout",
     "output_type": "stream",
     "text": [
      "factory_to_warehouse.xlsx\r\n"
     ]
    }
   ],
   "source": [
    "!ls data"
   ]
  },
  {
   "cell_type": "code",
   "execution_count": 3,
   "metadata": {
    "collapsed": true
   },
   "outputs": [],
   "source": [
    "file = os.path.join('data','factory_to_warehouse.xlsx')"
   ]
  },
  {
   "cell_type": "code",
   "execution_count": 4,
   "metadata": {
    "collapsed": false
   },
   "outputs": [],
   "source": [
    "factories = pd.read_excel(file, sheetname='Factories')\n",
    "warehouses = pd.read_excel(file, sheetname='Warehouses')\n",
    "lanes = pd.read_excel(file, sheetname='Lanes')"
   ]
  },
  {
   "cell_type": "code",
   "execution_count": 5,
   "metadata": {
    "collapsed": false
   },
   "outputs": [
    {
     "data": {
      "text/html": [
       "<div>\n",
       "<table border=\"1\" class=\"dataframe\">\n",
       "  <thead>\n",
       "    <tr style=\"text-align: right;\">\n",
       "      <th></th>\n",
       "      <th>Factory</th>\n",
       "      <th>Supply</th>\n",
       "    </tr>\n",
       "  </thead>\n",
       "  <tbody>\n",
       "    <tr>\n",
       "      <th>0</th>\n",
       "      <td>Garfield</td>\n",
       "      <td>150</td>\n",
       "    </tr>\n",
       "    <tr>\n",
       "      <th>1</th>\n",
       "      <td>Odie</td>\n",
       "      <td>225</td>\n",
       "    </tr>\n",
       "    <tr>\n",
       "      <th>2</th>\n",
       "      <td>Pikachu</td>\n",
       "      <td>200</td>\n",
       "    </tr>\n",
       "    <tr>\n",
       "      <th>3</th>\n",
       "      <td>Walter</td>\n",
       "      <td>100</td>\n",
       "    </tr>\n",
       "  </tbody>\n",
       "</table>\n",
       "</div>"
      ],
      "text/plain": [
       "    Factory  Supply\n",
       "0  Garfield     150\n",
       "1      Odie     225\n",
       "2   Pikachu     200\n",
       "3    Walter     100"
      ]
     },
     "execution_count": 5,
     "metadata": {},
     "output_type": "execute_result"
    }
   ],
   "source": [
    "factories.head()"
   ]
  },
  {
   "cell_type": "code",
   "execution_count": 6,
   "metadata": {
    "collapsed": false
   },
   "outputs": [
    {
     "data": {
      "text/html": [
       "<div>\n",
       "<table border=\"1\" class=\"dataframe\">\n",
       "  <thead>\n",
       "    <tr style=\"text-align: right;\">\n",
       "      <th></th>\n",
       "      <th>Warehouse</th>\n",
       "      <th>Demand</th>\n",
       "    </tr>\n",
       "  </thead>\n",
       "  <tbody>\n",
       "    <tr>\n",
       "      <th>0</th>\n",
       "      <td>SuperStore</td>\n",
       "      <td>50</td>\n",
       "    </tr>\n",
       "    <tr>\n",
       "      <th>1</th>\n",
       "      <td>Woolmart</td>\n",
       "      <td>100</td>\n",
       "    </tr>\n",
       "    <tr>\n",
       "      <th>2</th>\n",
       "      <td>Starbucklers</td>\n",
       "      <td>50</td>\n",
       "    </tr>\n",
       "    <tr>\n",
       "      <th>3</th>\n",
       "      <td>Castco</td>\n",
       "      <td>125</td>\n",
       "    </tr>\n",
       "    <tr>\n",
       "      <th>4</th>\n",
       "      <td>McRonalds</td>\n",
       "      <td>100</td>\n",
       "    </tr>\n",
       "  </tbody>\n",
       "</table>\n",
       "</div>"
      ],
      "text/plain": [
       "      Warehouse  Demand\n",
       "0    SuperStore      50\n",
       "1      Woolmart     100\n",
       "2  Starbucklers      50\n",
       "3        Castco     125\n",
       "4     McRonalds     100"
      ]
     },
     "execution_count": 6,
     "metadata": {},
     "output_type": "execute_result"
    }
   ],
   "source": [
    "warehouses.head()"
   ]
  },
  {
   "cell_type": "code",
   "execution_count": 7,
   "metadata": {
    "collapsed": false
   },
   "outputs": [
    {
     "data": {
      "text/html": [
       "<div>\n",
       "<table border=\"1\" class=\"dataframe\">\n",
       "  <thead>\n",
       "    <tr style=\"text-align: right;\">\n",
       "      <th></th>\n",
       "      <th>origin</th>\n",
       "      <th>destination</th>\n",
       "      <th>cost</th>\n",
       "      <th>capacity</th>\n",
       "    </tr>\n",
       "  </thead>\n",
       "  <tbody>\n",
       "    <tr>\n",
       "      <th>0</th>\n",
       "      <td>Garfield</td>\n",
       "      <td>SuperStore</td>\n",
       "      <td>1.26</td>\n",
       "      <td>122</td>\n",
       "    </tr>\n",
       "    <tr>\n",
       "      <th>1</th>\n",
       "      <td>Garfield</td>\n",
       "      <td>Woolmart</td>\n",
       "      <td>1.69</td>\n",
       "      <td>36</td>\n",
       "    </tr>\n",
       "    <tr>\n",
       "      <th>2</th>\n",
       "      <td>Garfield</td>\n",
       "      <td>Starbucklers</td>\n",
       "      <td>1.31</td>\n",
       "      <td>29</td>\n",
       "    </tr>\n",
       "    <tr>\n",
       "      <th>3</th>\n",
       "      <td>Garfield</td>\n",
       "      <td>Castco</td>\n",
       "      <td>1.64</td>\n",
       "      <td>78</td>\n",
       "    </tr>\n",
       "    <tr>\n",
       "      <th>4</th>\n",
       "      <td>Garfield</td>\n",
       "      <td>McRonalds</td>\n",
       "      <td>1.41</td>\n",
       "      <td>72</td>\n",
       "    </tr>\n",
       "  </tbody>\n",
       "</table>\n",
       "</div>"
      ],
      "text/plain": [
       "     origin   destination  cost  capacity\n",
       "0  Garfield    SuperStore  1.26       122\n",
       "1  Garfield      Woolmart  1.69        36\n",
       "2  Garfield  Starbucklers  1.31        29\n",
       "3  Garfield        Castco  1.64        78\n",
       "4  Garfield     McRonalds  1.41        72"
      ]
     },
     "execution_count": 7,
     "metadata": {},
     "output_type": "execute_result"
    }
   ],
   "source": [
    "lanes.head()"
   ]
  },
  {
   "cell_type": "code",
   "execution_count": 8,
   "metadata": {
    "collapsed": false
   },
   "outputs": [],
   "source": [
    "#check that we have a solveable problem\n",
    "assert factories.Supply.sum() >= warehouses.Demand.sum()"
   ]
  },
  {
   "cell_type": "code",
   "execution_count": 9,
   "metadata": {
    "collapsed": false
   },
   "outputs": [],
   "source": [
    "#check that each warehouse can be serviced\n",
    "#ie the total capacity for lanes into the warehouse should meet or exceed the demand\n",
    "capacity_in = lanes.groupby('destination').capacity.sum()\n",
    "check = warehouses.set_index('Warehouse').join(capacity_in)\n",
    "assert np.all(check.capacity >= check.Demand)\n",
    "\n",
    "#also need that for the lanes available, the supply, up to capacity, can satsify the demand\n",
    "#TODO later"
   ]
  },
  {
   "cell_type": "code",
   "execution_count": 10,
   "metadata": {
    "collapsed": false
   },
   "outputs": [],
   "source": [
    "#make a network"
   ]
  },
  {
   "cell_type": "code",
   "execution_count": 11,
   "metadata": {
    "collapsed": true
   },
   "outputs": [],
   "source": [
    "G = nx.DiGraph()"
   ]
  },
  {
   "cell_type": "code",
   "execution_count": 12,
   "metadata": {
    "collapsed": false
   },
   "outputs": [],
   "source": [
    "#add all the nodes\n",
    "for i, row in factories.iterrows():\n",
    "    G.add_node(row.Factory, supply=row.Supply, node_type='factory')\n",
    "    \n",
    "for i, row in warehouses.iterrows():\n",
    "    G.add_node(row.Warehouse, demand=row.Demand, node_type='warehouse')"
   ]
  },
  {
   "cell_type": "code",
   "execution_count": 13,
   "metadata": {
    "collapsed": false
   },
   "outputs": [],
   "source": [
    "for i, row in lanes.iterrows():\n",
    "    G.add_edge(row.origin, row.destination, cost=row.cost, capacity=row.capacity)"
   ]
  },
  {
   "cell_type": "code",
   "execution_count": 14,
   "metadata": {
    "collapsed": true
   },
   "outputs": [],
   "source": [
    "%matplotlib inline"
   ]
  },
  {
   "cell_type": "code",
   "execution_count": 15,
   "metadata": {
    "collapsed": false
   },
   "outputs": [
    {
     "data": {
      "image/png": "[encoded data removed]",
      "text/plain": [
       "<matplotlib.figure.Figure at 0x11460e1d0>"
      ]
     },
     "metadata": {},
     "output_type": "display_data"
    }
   ],
   "source": [
    "layout = nx.layout.circular_layout(G)\n",
    "nx.draw(G,layout)\n",
    "nx.draw_networkx_labels(G,layout);"
   ]
  },
  {
   "cell_type": "code",
   "execution_count": null,
   "metadata": {
    "collapsed": true
   },
   "outputs": [],
   "source": []
  },
  {
   "cell_type": "code",
   "execution_count": 16,
   "metadata": {
    "collapsed": false
   },
   "outputs": [],
   "source": [
    "#the variables are the amounts to put on each edge\n",
    "#LpVariale.dicts allows us to access the variables using dictionary access syntax\n",
    "# ie the quantity from Garfield to BurgerQueen is qty[('Garfield','BurgerQueen)]\n",
    "# the actual variable name created under the hood is qty_('Garfield',_'BurgerQueen')\n",
    "qty = LpVariable.dicts(\"qty\", G.edges(), lowBound=0)"
   ]
  },
  {
   "cell_type": "code",
   "execution_count": 17,
   "metadata": {
    "collapsed": false
   },
   "outputs": [],
   "source": [
    "#the objective"
   ]
  },
  {
   "cell_type": "code",
   "execution_count": 18,
   "metadata": {
    "collapsed": false
   },
   "outputs": [],
   "source": [
    "#the total cost of this routing is the cost per unit * the qty sent on each lane\n",
    "def objective():\n",
    "    shipping_cost = lpSum([ qty[(org,dest)]*data['cost'] for (org,dest,data) in G.edges(data=True)])\n",
    "    return shipping_cost"
   ]
  },
  {
   "cell_type": "code",
   "execution_count": 19,
   "metadata": {
    "collapsed": true
   },
   "outputs": [],
   "source": []
  },
  {
   "cell_type": "code",
   "execution_count": 20,
   "metadata": {
    "collapsed": true
   },
   "outputs": [],
   "source": [
    "def constraints():\n",
    "    #constraints\n",
    "    #make sure we satisfy the demand at each warehouse\n",
    "    #that means the sum of all the qty inbound to the warehouse must be equal to the demand\n",
    "    #networkx makes this very easy to program because we can simply ask for all the inbound edges to a given node using .in_edges\n",
    "    \n",
    "    constraints=[]\n",
    "    \n",
    "    for x, data in G.nodes(data=True):\n",
    "        #demand must be met\n",
    "        if data['node_type'] =='warehouse':\n",
    "            inbound_qty = lpSum([ qty[(org,x)] for org, _ in G.in_edges(x)])\n",
    "            c = inbound_qty == data['demand']\n",
    "            constraints.append(c)\n",
    "        #must not use more than the available supply\n",
    "        elif data['node_type'] =='factory':\n",
    "            out_qty = lpSum([ qty[(x,dest)] for _,dest in G.out_edges(x)])\n",
    "            c = out_qty <= data['supply']\n",
    "            constraints.append(c)\n",
    "            \n",
    "    #now the edge constraints\n",
    "    #we qty <= capacity on each lane\n",
    "    for org,dest, data in G.edges(data=True):\n",
    "        c = qty[(org,dest)] <= data['capacity']\n",
    "        constraints.append(c)\n",
    "        \n",
    "    return constraints"
   ]
  },
  {
   "cell_type": "code",
   "execution_count": 21,
   "metadata": {
    "collapsed": true
   },
   "outputs": [],
   "source": [
    "#setup the problem\n",
    "prob = LpProblem('warehouse_routing',LpMinimize)"
   ]
  },
  {
   "cell_type": "code",
   "execution_count": 22,
   "metadata": {
    "collapsed": true
   },
   "outputs": [],
   "source": [
    "prob += objective()"
   ]
  },
  {
   "cell_type": "code",
   "execution_count": 23,
   "metadata": {
    "collapsed": true
   },
   "outputs": [],
   "source": [
    "for c in constraints():\n",
    "    prob+=c"
   ]
  },
  {
   "cell_type": "code",
   "execution_count": 24,
   "metadata": {
    "collapsed": false
   },
   "outputs": [
    {
     "data": {
      "text/plain": [
       "1"
      ]
     },
     "execution_count": 24,
     "metadata": {},
     "output_type": "execute_result"
    }
   ],
   "source": [
    "prob.solve()"
   ]
  },
  {
   "cell_type": "code",
   "execution_count": 25,
   "metadata": {
    "collapsed": false
   },
   "outputs": [
    {
     "data": {
      "text/plain": [
       "799.95"
      ]
     },
     "execution_count": 25,
     "metadata": {},
     "output_type": "execute_result"
    }
   ],
   "source": [
    "value(prob.objective)"
   ]
  },
  {
   "cell_type": "code",
   "execution_count": 27,
   "metadata": {
    "collapsed": false
   },
   "outputs": [
    {
     "name": "stdout",
     "output_type": "stream",
     "text": [
      "Odie Castco 47.0\n",
      "Odie Woolmart 38.0\n",
      "Odie BurgerQueen 30.0\n",
      "Odie Starbucklers 50.0\n",
      "Garfield McRonalds 43.0\n",
      "Garfield Castco 52.0\n",
      "Garfield SuperStore 50.0\n",
      "Garfield BurgerQueen 5.0\n",
      "Walter Castco 26.0\n",
      "Pikachu McRonalds 57.0\n",
      "Pikachu Woolmart 62.0\n",
      "Pikachu BurgerQueen 40.0\n"
     ]
    }
   ],
   "source": [
    "#you can also use the value() function instead of .varValue\n",
    "for org,dest in G.edges():\n",
    "    v= value(qty[(org,dest)])\n",
    "    if v >0:\n",
    "        print(org,dest, v)"
   ]
  },
  {
   "cell_type": "code",
   "execution_count": 28,
   "metadata": {
    "collapsed": false
   },
   "outputs": [
    {
     "data": {
      "text/html": [
       "<div>\n",
       "<table border=\"1\" class=\"dataframe\">\n",
       "  <thead>\n",
       "    <tr style=\"text-align: right;\">\n",
       "      <th></th>\n",
       "      <th>origin</th>\n",
       "      <th>destination</th>\n",
       "      <th>cost</th>\n",
       "      <th>capacity</th>\n",
       "    </tr>\n",
       "  </thead>\n",
       "  <tbody>\n",
       "    <tr>\n",
       "      <th>0</th>\n",
       "      <td>Garfield</td>\n",
       "      <td>SuperStore</td>\n",
       "      <td>1.26</td>\n",
       "      <td>122</td>\n",
       "    </tr>\n",
       "    <tr>\n",
       "      <th>1</th>\n",
       "      <td>Garfield</td>\n",
       "      <td>Woolmart</td>\n",
       "      <td>1.69</td>\n",
       "      <td>36</td>\n",
       "    </tr>\n",
       "    <tr>\n",
       "      <th>2</th>\n",
       "      <td>Garfield</td>\n",
       "      <td>Starbucklers</td>\n",
       "      <td>1.31</td>\n",
       "      <td>29</td>\n",
       "    </tr>\n",
       "    <tr>\n",
       "      <th>3</th>\n",
       "      <td>Garfield</td>\n",
       "      <td>Castco</td>\n",
       "      <td>1.64</td>\n",
       "      <td>78</td>\n",
       "    </tr>\n",
       "    <tr>\n",
       "      <th>4</th>\n",
       "      <td>Garfield</td>\n",
       "      <td>McRonalds</td>\n",
       "      <td>1.41</td>\n",
       "      <td>72</td>\n",
       "    </tr>\n",
       "  </tbody>\n",
       "</table>\n",
       "</div>"
      ],
      "text/plain": [
       "     origin   destination  cost  capacity\n",
       "0  Garfield    SuperStore  1.26       122\n",
       "1  Garfield      Woolmart  1.69        36\n",
       "2  Garfield  Starbucklers  1.31        29\n",
       "3  Garfield        Castco  1.64        78\n",
       "4  Garfield     McRonalds  1.41        72"
      ]
     },
     "execution_count": 28,
     "metadata": {},
     "output_type": "execute_result"
    }
   ],
   "source": [
    "lanes.head()"
   ]
  },
  {
   "cell_type": "code",
   "execution_count": 31,
   "metadata": {
    "collapsed": true
   },
   "outputs": [],
   "source": [
    "#lets verify all the conditions\n",
    "#first lets stuff our result into a dataframe for export\n",
    "result=[]\n",
    "for org,dest in G.edges():\n",
    "    v= value(qty[(org,dest)])\n",
    "    result.append({'origin':org,'destination':dest,'qty':v})\n",
    "result_df = pd.DataFrame(result)"
   ]
  },
  {
   "cell_type": "code",
   "execution_count": 35,
   "metadata": {
    "collapsed": false
   },
   "outputs": [],
   "source": [
    "lanes['key']=lanes.origin+lanes.destination\n",
    "result_df['key'] = result_df.origin+result_df.destination"
   ]
  },
  {
   "cell_type": "code",
   "execution_count": 39,
   "metadata": {
    "collapsed": false
   },
   "outputs": [],
   "source": [
    "lanes = lanes.set_index('key').merge(result_df.set_index('key'))"
   ]
  },
  {
   "cell_type": "code",
   "execution_count": 45,
   "metadata": {
    "collapsed": false
   },
   "outputs": [],
   "source": [
    "#any lane over capacity\n",
    "assert np.all(lanes.qty <= lanes.capacity)"
   ]
  },
  {
   "cell_type": "code",
   "execution_count": 52,
   "metadata": {
    "collapsed": false
   },
   "outputs": [],
   "source": [
    "#check that we met the demand\n",
    "out_qty =lanes.groupby('destination').qty.sum()\n",
    "check = warehouses.set_index('Warehouse').join(out_qty)\n",
    "assert np.all(check.qty == check.Demand)\n"
   ]
  },
  {
   "cell_type": "code",
   "execution_count": 57,
   "metadata": {
    "collapsed": false
   },
   "outputs": [],
   "source": [
    "#check that we met the supply\n",
    "in_qty =lanes.groupby('origin').qty.sum()\n",
    "check = factories.set_index('Factory').join(in_qty)\n",
    "assert np.all(check.qty <= check.Supply)\n"
   ]
  },
  {
   "cell_type": "code",
   "execution_count": 59,
   "metadata": {
    "collapsed": false
   },
   "outputs": [
    {
     "data": {
      "text/html": [
       "<div>\n",
       "<table border=\"1\" class=\"dataframe\">\n",
       "  <thead>\n",
       "    <tr style=\"text-align: right;\">\n",
       "      <th></th>\n",
       "      <th>origin</th>\n",
       "      <th>destination</th>\n",
       "      <th>cost</th>\n",
       "      <th>capacity</th>\n",
       "      <th>qty</th>\n",
       "    </tr>\n",
       "  </thead>\n",
       "  <tbody>\n",
       "    <tr>\n",
       "      <th>0</th>\n",
       "      <td>Garfield</td>\n",
       "      <td>SuperStore</td>\n",
       "      <td>1.26</td>\n",
       "      <td>122</td>\n",
       "      <td>50.0</td>\n",
       "    </tr>\n",
       "    <tr>\n",
       "      <th>1</th>\n",
       "      <td>Garfield</td>\n",
       "      <td>Woolmart</td>\n",
       "      <td>1.69</td>\n",
       "      <td>36</td>\n",
       "      <td>0.0</td>\n",
       "    </tr>\n",
       "    <tr>\n",
       "      <th>2</th>\n",
       "      <td>Garfield</td>\n",
       "      <td>Starbucklers</td>\n",
       "      <td>1.31</td>\n",
       "      <td>29</td>\n",
       "      <td>0.0</td>\n",
       "    </tr>\n",
       "    <tr>\n",
       "      <th>3</th>\n",
       "      <td>Garfield</td>\n",
       "      <td>Castco</td>\n",
       "      <td>1.64</td>\n",
       "      <td>78</td>\n",
       "      <td>52.0</td>\n",
       "    </tr>\n",
       "    <tr>\n",
       "      <th>4</th>\n",
       "      <td>Garfield</td>\n",
       "      <td>McRonalds</td>\n",
       "      <td>1.41</td>\n",
       "      <td>72</td>\n",
       "      <td>43.0</td>\n",
       "    </tr>\n",
       "    <tr>\n",
       "      <th>5</th>\n",
       "      <td>Garfield</td>\n",
       "      <td>BurgerQueen</td>\n",
       "      <td>1.78</td>\n",
       "      <td>86</td>\n",
       "      <td>5.0</td>\n",
       "    </tr>\n",
       "    <tr>\n",
       "      <th>6</th>\n",
       "      <td>Odie</td>\n",
       "      <td>SuperStore</td>\n",
       "      <td>2.12</td>\n",
       "      <td>106</td>\n",
       "      <td>0.0</td>\n",
       "    </tr>\n",
       "    <tr>\n",
       "      <th>7</th>\n",
       "      <td>Odie</td>\n",
       "      <td>Woolmart</td>\n",
       "      <td>1.41</td>\n",
       "      <td>91</td>\n",
       "      <td>38.0</td>\n",
       "    </tr>\n",
       "    <tr>\n",
       "      <th>8</th>\n",
       "      <td>Odie</td>\n",
       "      <td>Starbucklers</td>\n",
       "      <td>1.34</td>\n",
       "      <td>77</td>\n",
       "      <td>50.0</td>\n",
       "    </tr>\n",
       "    <tr>\n",
       "      <th>9</th>\n",
       "      <td>Odie</td>\n",
       "      <td>Castco</td>\n",
       "      <td>1.91</td>\n",
       "      <td>47</td>\n",
       "      <td>47.0</td>\n",
       "    </tr>\n",
       "    <tr>\n",
       "      <th>10</th>\n",
       "      <td>Odie</td>\n",
       "      <td>McRonalds</td>\n",
       "      <td>1.96</td>\n",
       "      <td>42</td>\n",
       "      <td>0.0</td>\n",
       "    </tr>\n",
       "    <tr>\n",
       "      <th>11</th>\n",
       "      <td>Odie</td>\n",
       "      <td>BurgerQueen</td>\n",
       "      <td>1.75</td>\n",
       "      <td>30</td>\n",
       "      <td>30.0</td>\n",
       "    </tr>\n",
       "    <tr>\n",
       "      <th>12</th>\n",
       "      <td>Pikachu</td>\n",
       "      <td>SuperStore</td>\n",
       "      <td>1.77</td>\n",
       "      <td>27</td>\n",
       "      <td>0.0</td>\n",
       "    </tr>\n",
       "    <tr>\n",
       "      <th>13</th>\n",
       "      <td>Pikachu</td>\n",
       "      <td>Woolmart</td>\n",
       "      <td>1.36</td>\n",
       "      <td>62</td>\n",
       "      <td>62.0</td>\n",
       "    </tr>\n",
       "    <tr>\n",
       "      <th>14</th>\n",
       "      <td>Pikachu</td>\n",
       "      <td>Starbucklers</td>\n",
       "      <td>1.86</td>\n",
       "      <td>42</td>\n",
       "      <td>0.0</td>\n",
       "    </tr>\n",
       "    <tr>\n",
       "      <th>15</th>\n",
       "      <td>Pikachu</td>\n",
       "      <td>Castco</td>\n",
       "      <td>2.11</td>\n",
       "      <td>85</td>\n",
       "      <td>0.0</td>\n",
       "    </tr>\n",
       "    <tr>\n",
       "      <th>16</th>\n",
       "      <td>Pikachu</td>\n",
       "      <td>McRonalds</td>\n",
       "      <td>1.71</td>\n",
       "      <td>57</td>\n",
       "      <td>57.0</td>\n",
       "    </tr>\n",
       "    <tr>\n",
       "      <th>17</th>\n",
       "      <td>Pikachu</td>\n",
       "      <td>BurgerQueen</td>\n",
       "      <td>2.17</td>\n",
       "      <td>116</td>\n",
       "      <td>40.0</td>\n",
       "    </tr>\n",
       "    <tr>\n",
       "      <th>18</th>\n",
       "      <td>Walter</td>\n",
       "      <td>SuperStore</td>\n",
       "      <td>1.72</td>\n",
       "      <td>28</td>\n",
       "      <td>0.0</td>\n",
       "    </tr>\n",
       "    <tr>\n",
       "      <th>19</th>\n",
       "      <td>Walter</td>\n",
       "      <td>Woolmart</td>\n",
       "      <td>2.05</td>\n",
       "      <td>51</td>\n",
       "      <td>0.0</td>\n",
       "    </tr>\n",
       "    <tr>\n",
       "      <th>20</th>\n",
       "      <td>Walter</td>\n",
       "      <td>Starbucklers</td>\n",
       "      <td>2.23</td>\n",
       "      <td>106</td>\n",
       "      <td>0.0</td>\n",
       "    </tr>\n",
       "    <tr>\n",
       "      <th>21</th>\n",
       "      <td>Walter</td>\n",
       "      <td>Castco</td>\n",
       "      <td>1.95</td>\n",
       "      <td>26</td>\n",
       "      <td>26.0</td>\n",
       "    </tr>\n",
       "    <tr>\n",
       "      <th>22</th>\n",
       "      <td>Walter</td>\n",
       "      <td>McRonalds</td>\n",
       "      <td>2.08</td>\n",
       "      <td>123</td>\n",
       "      <td>0.0</td>\n",
       "    </tr>\n",
       "    <tr>\n",
       "      <th>23</th>\n",
       "      <td>Walter</td>\n",
       "      <td>BurgerQueen</td>\n",
       "      <td>2.19</td>\n",
       "      <td>64</td>\n",
       "      <td>0.0</td>\n",
       "    </tr>\n",
       "  </tbody>\n",
       "</table>\n",
       "</div>"
      ],
      "text/plain": [
       "      origin   destination  cost  capacity   qty\n",
       "0   Garfield    SuperStore  1.26       122  50.0\n",
       "1   Garfield      Woolmart  1.69        36   0.0\n",
       "2   Garfield  Starbucklers  1.31        29   0.0\n",
       "3   Garfield        Castco  1.64        78  52.0\n",
       "4   Garfield     McRonalds  1.41        72  43.0\n",
       "5   Garfield   BurgerQueen  1.78        86   5.0\n",
       "6       Odie    SuperStore  2.12       106   0.0\n",
       "7       Odie      Woolmart  1.41        91  38.0\n",
       "8       Odie  Starbucklers  1.34        77  50.0\n",
       "9       Odie        Castco  1.91        47  47.0\n",
       "10      Odie     McRonalds  1.96        42   0.0\n",
       "11      Odie   BurgerQueen  1.75        30  30.0\n",
       "12   Pikachu    SuperStore  1.77        27   0.0\n",
       "13   Pikachu      Woolmart  1.36        62  62.0\n",
       "14   Pikachu  Starbucklers  1.86        42   0.0\n",
       "15   Pikachu        Castco  2.11        85   0.0\n",
       "16   Pikachu     McRonalds  1.71        57  57.0\n",
       "17   Pikachu   BurgerQueen  2.17       116  40.0\n",
       "18    Walter    SuperStore  1.72        28   0.0\n",
       "19    Walter      Woolmart  2.05        51   0.0\n",
       "20    Walter  Starbucklers  2.23       106   0.0\n",
       "21    Walter        Castco  1.95        26  26.0\n",
       "22    Walter     McRonalds  2.08       123   0.0\n",
       "23    Walter   BurgerQueen  2.19        64   0.0"
      ]
     },
     "execution_count": 59,
     "metadata": {},
     "output_type": "execute_result"
    }
   ],
   "source": [
    "#the result!\n",
    "lanes"
   ]
  },
  {
   "cell_type": "code",
   "execution_count": null,
   "metadata": {
    "collapsed": true
   },
   "outputs": [],
   "source": []
  }
 ],
 "metadata": {
  "anaconda-cloud": {},
  "kernelspec": {
   "display_name": "Python [conda env:py3]",
   "language": "python",
   "name": "conda-env-py3-py"
  },
  "language_info": {
   "codemirror_mode": {
    "name": "ipython",
    "version": 3
   },
   "file_extension": ".py",
   "mimetype": "text/x-python",
   "name": "python",
   "nbconvert_exporter": "python",
   "pygments_lexer": "ipython3",
   "version": "3.5.2"
  }
 },
 "nbformat": 4,
 "nbformat_minor": 1
}
