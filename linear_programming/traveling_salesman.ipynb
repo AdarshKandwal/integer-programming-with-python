{
 "cells": [
  {
   "cell_type": "markdown",
   "metadata": {},
   "source": [
    "## TSP\n",
    "\n",
    "Here we solve it as as MIP\n",
    "[traveling salesman problem TSP](https://en.wikipedia.org/wiki/Travelling_salesman_problem)"
   ]
  },
  {
   "cell_type": "code",
   "execution_count": 1,
   "metadata": {
    "collapsed": false
   },
   "outputs": [],
   "source": [
    "from pulp import *\n",
    "import numpy as np"
   ]
  },
  {
   "cell_type": "code",
   "execution_count": 2,
   "metadata": {
    "collapsed": true
   },
   "outputs": [],
   "source": [
    "sites = ['org','A','B','C','D','E','F','G']"
   ]
  },
  {
   "cell_type": "code",
   "execution_count": 3,
   "metadata": {
    "collapsed": false
   },
   "outputs": [],
   "source": [
    "#non symetric distances\n",
    "distances ={}\n",
    "for a in sites:\n",
    "    for b in sites:\n",
    "        if a==b:\n",
    "            continue\n",
    "        \n",
    "        distances[(a,b)] = np.random.randint(10,50)\n",
    "        "
   ]
  },
  {
   "cell_type": "code",
   "execution_count": 4,
   "metadata": {
    "collapsed": true
   },
   "outputs": [],
   "source": [
    "#we need to keep track of the order in the tour to eliminate the possibility of subtours\n",
    "u = LpVariable.dicts('u', sites, 0, len(sites)-1, LpInteger)"
   ]
  },
  {
   "cell_type": "code",
   "execution_count": 5,
   "metadata": {
    "collapsed": true
   },
   "outputs": [],
   "source": [
    "#we need lots of binary variables to indicate if a city i is connected to city j\n",
    "x = LpVariable.dicts('x',distances, 0,1,LpBinary)"
   ]
  },
  {
   "cell_type": "code",
   "execution_count": 6,
   "metadata": {
    "collapsed": true
   },
   "outputs": [],
   "source": [
    "prob=LpProblem(\"salesman\",LpMinimize)"
   ]
  },
  {
   "cell_type": "code",
   "execution_count": 7,
   "metadata": {
    "collapsed": false
   },
   "outputs": [],
   "source": [
    "cost = lpSum([x[(i,j)]*distances[(i,j)] for (i,j) in distances])\n",
    "prob+=cost"
   ]
  },
  {
   "cell_type": "code",
   "execution_count": 8,
   "metadata": {
    "collapsed": false
   },
   "outputs": [],
   "source": [
    "#constraints\n",
    "for k in sites:\n",
    "    #every city has exactly one inbound connection\n",
    "    prob+= lpSum([ x[(i,k)] for i in sites if (i,k) in x]) ==1\n",
    "    #every city has exactly one outbound connection\n",
    "    prob+=lpSum([ x[(k,i)] for i in sites if (k,i) in x]) ==1\n",
    "    \n",
    "#subtour elimination\n",
    "M=len(sites)+1\n",
    "for i in sites:\n",
    "    for j in sites:\n",
    "        if i != j and (i != 'org' and j!= 'org') and (i,j) in x:\n",
    "            prob += u[i] - u[j] + M*x[(i,j)] <= M - 1"
   ]
  },
  {
   "cell_type": "code",
   "execution_count": 9,
   "metadata": {
    "collapsed": false
   },
   "outputs": [
    {
     "name": "stdout",
     "output_type": "stream",
     "text": [
      "CPU times: user 5.1 ms, sys: 3.81 ms, total: 8.91 ms\n",
      "Wall time: 63.9 ms\n"
     ]
    },
    {
     "data": {
      "text/plain": [
       "1"
      ]
     },
     "execution_count": 9,
     "metadata": {},
     "output_type": "execute_result"
    }
   ],
   "source": [
    "%time prob.solve()"
   ]
  },
  {
   "cell_type": "code",
   "execution_count": 10,
   "metadata": {
    "collapsed": false
   },
   "outputs": [
    {
     "name": "stdout",
     "output_type": "stream",
     "text": [
      "B org 1.0 12\n",
      "org D 1.0 14\n",
      "D F 1.0 13\n",
      "E A 1.0 20\n",
      "C G 1.0 16\n",
      "A B 1.0 21\n",
      "G E 1.0 13\n",
      "F C 1.0 12\n"
     ]
    }
   ],
   "source": [
    "for (i,j) in distances:\n",
    "    v = x[(i,j)].varValue\n",
    "    if v >0:\n",
    "        print(i,j, v, distances[(i,j)] )"
   ]
  },
  {
   "cell_type": "code",
   "execution_count": 11,
   "metadata": {
    "collapsed": false
   },
   "outputs": [
    {
     "name": "stdout",
     "output_type": "stream",
     "text": [
      "org -> D -> F -> C -> G -> E -> A -> B -> org\n"
     ]
    }
   ],
   "source": [
    "sites_left = sites.copy()\n",
    "org = 'org'\n",
    "tour=[]\n",
    "tour.append(sites_left.pop( sites_left.index(org)))\n",
    "\n",
    "while len(sites_left) > 0:\n",
    "    \n",
    "    for k in sites_left:\n",
    "        if x[(org,k)].varValue ==1:\n",
    "            tour.append( sites_left.pop( sites_left.index(k)))\n",
    "            org=k\n",
    "            break\n",
    "            \n",
    "tour.append('org')\n",
    "\n",
    "tour_legs = [distances[(tour[i-1], tour[i])] for i in range(1,len(tour))]\n",
    "\n",
    "print(' -> '.join(tour))"
   ]
  },
  {
   "cell_type": "code",
   "execution_count": 12,
   "metadata": {
    "collapsed": false
   },
   "outputs": [
    {
     "data": {
      "text/plain": [
       "121"
      ]
     },
     "execution_count": 12,
     "metadata": {},
     "output_type": "execute_result"
    }
   ],
   "source": [
    "sum(tour_legs)"
   ]
  }
 ],
 "metadata": {
  "kernelspec": {
   "display_name": "Python [conda env:py3]",
   "language": "python",
   "name": "conda-env-py3-py"
  },
  "language_info": {
   "codemirror_mode": {
    "name": "ipython",
    "version": 3
   },
   "file_extension": ".py",
   "mimetype": "text/x-python",
   "name": "python",
   "nbconvert_exporter": "python",
   "pygments_lexer": "ipython3",
   "version": "3.5.2"
  }
 },
 "nbformat": 4,
 "nbformat_minor": 1
}
