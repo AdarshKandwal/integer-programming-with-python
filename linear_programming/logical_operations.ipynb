{
 "cells": [
  {
   "cell_type": "markdown",
   "metadata": {},
   "source": [
    "### Binary Variables\n",
    "\n",
    "Binary variables allow us to model all sorts of logical conditions as linear programs. Let $x,y$ be binary integer variables.\n",
    "\n",
    "### Logical NOT\n",
    "First the most simple condition. We want a new binary integer variable $z$ such that $z = NOT(x)$\n",
    "\n",
    "$$z = 1-x$$\n",
    "\n",
    "### Logical OR\n",
    "Let $z = x \\text{ or } y$\n",
    "$$ z \\geq x \\\\\n",
    "z \\geq y \\\\\n",
    "z \\leq x+y$$\n",
    "\n",
    "If x and y are both 0, then z must be 0 by the third condition. If on the other hand either x or y is 1 then z must be 1 by the first and second conditions. If x and y are both 1, the first two conditions hold and the third just states that $z \\leq 2$ which is always going to be true. This new variable is effectively the larger of x and y. With negation and or, we have all we need to be [functionally complete](https://en.wikipedia.org/wiki/Functional_completeness). Buts lets list the other basic logical operators out.\n",
    "\n",
    "### Logical AND\n",
    "Let $z = x \\text{ and } y$\n",
    "$$ z \\leq x \\\\\n",
    "z \\leq y \\\\\n",
    "z \\geq x+y - 1$$\n",
    "\n",
    "### Implication, ie if x then y, ie $ x \\implies y $\n",
    "\n",
    "If x is true, they y must be true, and if x is false y can be anything. This is satisfied by $$y \\geq x$$"
   ]
  },
  {
   "cell_type": "markdown",
   "metadata": {},
   "source": [
    "### How to mulitply variables\n",
    "\n",
    "Crazy right? This is obviously non-linear, but we can handle two special cases.\n",
    "\n",
    "### $z = b*x$ where $b$ is binary and $x$ is continous\n",
    "\n",
    "let $x \\in [A,B]$ and $z$ a continous variable with the same bounds as x\n",
    "\n",
    "$$bA \\leq z \\leq bB \\\\\n",
    "(1-b)A \\leq x-z \\leq (1-b)B$$\n",
    "\n",
    "The first condition essentially turns off the output variable $z$ if the the binary variable $b$ is false. The second is a bit more mysterious, It places a bound on how far away $x$ can be from $z$. If $b=1$ then this bound tightnes to 0.\n",
    "\n",
    "### 2. $z = b1*b2$ where both variables are binary\n",
    "\n",
    "$$z \\leq b1 \\\\\n",
    "z \\leq b2 \\\\\n",
    "z \\geq b1+b2 -1$$\n",
    "\n",
    "This should look familar, the product of two binary variables is the same as a logical AND"
   ]
  },
  {
   "cell_type": "markdown",
   "metadata": {},
   "source": [
    "### Logical conditions involving continous variables\n",
    "\n",
    "### Disjunctions\n",
    "Suppose we want to model $$(A \\leq x \\leq B) \\text{ or } (C \\leq x \\leq D)$$ In other words, we want to have a contious variable that takes on only specified ranges of values. We can introduce a new binary variable $b$ which will select the interval x is in:\n",
    "\n",
    "$$b = \\begin{cases} 0  \\text{ if } A \\leq x \\leq B \\\\\n",
    "1 \\text{ if } C \\leq x \\leq D  \\end{cases}$$\n",
    "\n",
    "The constraint for x becomes\n",
    "$$ A + (C-A)b \\leq x \\leq B + (D- B)b$$\n",
    "\n"
   ]
  },
  {
   "cell_type": "code",
   "execution_count": null,
   "metadata": {
    "collapsed": true
   },
   "outputs": [],
   "source": []
  }
 ],
 "metadata": {
  "kernelspec": {
   "display_name": "Python [conda env:py3]",
   "language": "python",
   "name": "conda-env-py3-py"
  },
  "language_info": {
   "codemirror_mode": {
    "name": "ipython",
    "version": 3
   },
   "file_extension": ".py",
   "mimetype": "text/x-python",
   "name": "python",
   "nbconvert_exporter": "python",
   "pygments_lexer": "ipython3",
   "version": "3.5.2"
  }
 },
 "nbformat": 4,
 "nbformat_minor": 1
}
